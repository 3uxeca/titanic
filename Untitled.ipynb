{
 "cells": [
  {
   "cell_type": "code",
   "execution_count": null,
   "metadata": {},
   "outputs": [],
   "source": [
    "from random import *\n",
    "\n",
    "n = randint(1, 100)\n",
    "\n",
    "while True:\n",
    "    ans = input(\"Guess my number (Q to exit): \")\n",
    "    if ans.upper() == \"Q\":\n",
    "        break\n",
    "    ians = int(ans)\n",
    "    if (n == ians):\n",
    "        print(\"Correct!\")\n",
    "        break\n",
    "    elif (n > ians):\n",
    "        print(\"Choose higher number\")\n",
    "    else:\n",
    "        print(\"Choose lower number\")\n"
   ]
  },
  {
   "cell_type": "code",
   "execution_count": null,
   "metadata": {},
   "outputs": [],
   "source": []
  }
 ],
 "metadata": {
  "kernelspec": {
   "display_name": "Python 3",
   "language": "python",
   "name": "python3"
  },
  "language_info": {
   "codemirror_mode": {
    "name": "ipython",
    "version": 3
   },
   "file_extension": ".py",
   "mimetype": "text/x-python",
   "name": "python",
   "nbconvert_exporter": "python",
   "pygments_lexer": "ipython3",
   "version": "3.7.3"
  }
 },
 "nbformat": 4,
 "nbformat_minor": 2
}
